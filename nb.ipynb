{
 "cells": [
  {
   "cell_type": "code",
   "execution_count": 10,
   "id": "1f654e46-e69e-452c-aa16-930b181a1f92",
   "metadata": {},
   "outputs": [],
   "source": [
    "#All required libraries are imported here for you.\n",
    "import pandas as pd\n",
    "from sklearn.model_selection import train_test_split\n",
    "from sklearn import metrics\n",
    "import numpy as np\n",
    "import matplotlib.pyplot as plt\n",
    "import seaborn as sns\n",
    "from sklearn.model_selection import train_test_split\n",
    "from sklearn.naive_bayes import GaussianNB\n",
    "from sklearn.preprocessing import StandardScaler\n",
    "from sklearn.metrics import accuracy_score, precision_score, recall_score, confusion_matrix, ConfusionMatrixDisplay, roc_curve, auc"
   ]
  },
  {
   "cell_type": "code",
   "execution_count": 11,
   "id": "8731be2d-3b00-4d3d-b445-25588593d94d",
   "metadata": {},
   "outputs": [],
   "source": [
    "# Load the dataset\n",
    "blood = pd.read_csv('blood.csv')\n",
    "blood = blood.rename(columns={'Recency (months)': 'months since last donation',\n",
    "                              'Frequency (times)': 'total number of donations', \n",
    "                              'Monetary (c.c. blood)': 'total blood donated (in c.c.)',\n",
    "                             'Time (months)': 'months since first donation', \n",
    "                              'whether he/she donated blood in March 2007': 'Donated'})"
   ]
  },
  {
   "cell_type": "code",
   "execution_count": 12,
   "id": "d03e4ce1-2cfd-49ea-af98-ccfe2429a8c8",
   "metadata": {},
   "outputs": [],
   "source": [
    "# Features\n",
    "X = blood[['months since last donation', 'total number of donations', \n",
    "           'total blood donated (in c.c.)', 'months since first donation']]\n",
    "features = ['months since last donation', 'total number of donations', \n",
    "           'total blood donated (in c.c.)', 'months since first donation']\n",
    "\n",
    "# Labels\n",
    "y = blood['Donated']"
   ]
  },
  {
   "cell_type": "code",
   "execution_count": 13,
   "id": "aa3a1098-8536-4b86-81a4-d91ec657230f",
   "metadata": {},
   "outputs": [
    {
     "name": "stdout",
     "output_type": "stream",
     "text": [
      "Training: (523, 4)\n",
      "Validating: (150, 4)\n",
      "Testing: (75, 4)\n"
     ]
    }
   ],
   "source": [
    "np.random.seed(123)\n",
    "X_train, X_temp, y_train, y_temp = train_test_split(X, y, test_size = 0.3)\n",
    "X_valid, X_test, y_valid, y_test = train_test_split(X_temp, y_temp, test_size = 0.33)\n",
    "\n",
    "print('Training:', X_train.shape)\n",
    "print('Validating:', X_valid.shape)\n",
    "print('Testing:', X_test.shape)\n",
    "\n",
    "# Initialize the model\n",
    "model = GaussianNB()\n",
    "\n",
    "# Fit the model\n",
    "model.fit(X_train[features], y_train)\n",
    "\n",
    "# Predict on train data\n",
    "y_pred_train = model.predict(X_train[features])\n",
    "\n",
    "# Predict on validating data\n",
    "y_pred_valid = model.predict(X_valid[features])\n",
    "\n",
    "# Predict on test data\n",
    "y_pred_test = model.predict(X_test[features])"
   ]
  },
  {
   "cell_type": "code",
   "execution_count": 14,
   "id": "92dc916b-617a-4348-8e46-be89823c7a09",
   "metadata": {},
   "outputs": [],
   "source": [
    "# Creating a confusion matrix for the training data\n",
    "train_tn, train_fp, train_fn, train_tp = confusion_matrix(y_train, y_pred_train).ravel()\n",
    "train_cm = confusion_matrix(y_train, y_pred_train)\n",
    "\n",
    "# Creating a confusion matrix for the validating data\n",
    "valid_tn, valid_fp, valid_fn, valid_tp = confusion_matrix(y_valid, y_pred_valid).ravel()\n",
    "valid_cm = confusion_matrix(y_valid, y_pred_valid)\n",
    "\n",
    "# Creating a confusion matrix for the test data\n",
    "test_tn, test_fp, test_fn, test_tp = confusion_matrix(y_test, y_pred_test).ravel()\n",
    "test_cm = confusion_matrix(y_test, y_pred_test)"
   ]
  },
  {
   "cell_type": "code",
   "execution_count": 15,
   "id": "09b9303a-35c9-4add-b60b-ef9fa95b3c5c",
   "metadata": {},
   "outputs": [],
   "source": [
    "# Evaluate the model on training data\n",
    "train_accuracy = metrics.accuracy_score(y_train, y_pred_train)\n",
    "train_precision = precision_score(y_train, y_pred_train)\n",
    "train_recall = metrics.recall_score(y_train, y_pred_train)\n",
    "train_specificity = train_tn / (train_tn + train_fp)\n",
    "train_f1 = metrics.f1_score(y_train, y_pred_train)\n",
    "\n",
    "# Evaluate the model on valdiating data\n",
    "valid_accuracy = metrics.accuracy_score(y_valid, y_pred_valid)\n",
    "valid_precision = precision_score(y_valid, y_pred_valid)\n",
    "valid_recall = metrics.recall_score(y_valid, y_pred_valid)\n",
    "valid_specificity = valid_tn / (valid_tn + valid_fp)\n",
    "valid_f1 = metrics.f1_score(y_valid, y_pred_valid)\n",
    "\n",
    "# Evaluate the model on testing data\n",
    "test_accuracy = metrics.accuracy_score(y_test, y_pred_test)\n",
    "test_precision = precision_score(y_test, y_pred_test)\n",
    "test_recall = metrics.recall_score(y_test, y_pred_test)\n",
    "test_specificity = test_tn / (test_tn + test_fp)\n",
    "test_f1 = metrics.f1_score(y_test, y_pred_test)"
   ]
  },
  {
   "cell_type": "code",
   "execution_count": 16,
   "id": "950d4a41-1ca9-47f7-9825-d2bdd2cfe572",
   "metadata": {},
   "outputs": [
    {
     "name": "stdout",
     "output_type": "stream",
     "text": [
      "---Training Performance---\n",
      "Training Accuracy: 0.7762906309751434\n",
      "Training Precision Score: 0.5102040816326531\n",
      "Training Recall Score: 0.211864406779661\n",
      "Training Specificity Score: 0.9407407407407408\n",
      "Training F1 Score: 0.2994011976047904\n",
      "---Valdiating Performance---\n",
      "Valid Accuracy: 0.7266666666666667\n",
      "Valid Precision Score: 0.36363636363636365\n",
      "Valid Recall Score: 0.10526315789473684\n",
      "Valid Specificity Score: 0.9375\n",
      "Valid F1 Score: 0.16326530612244897\n"
     ]
    }
   ],
   "source": [
    "# Printing test evaluation metrics\n",
    "print('---Training Performance---')\n",
    "print('Training Accuracy:', train_accuracy)\n",
    "print('Training Precision Score:', train_precision)\n",
    "print('Training Recall Score:', train_recall)\n",
    "print('Training Specificity Score:', train_specificity)\n",
    "print('Training F1 Score:', train_f1)\n",
    "\n",
    "# Printing validation evaluation metrics\n",
    "print('---Valdiating Performance---')\n",
    "print('Valid Accuracy:', valid_accuracy)\n",
    "print('Valid Precision Score:', valid_precision)\n",
    "print('Valid Recall Score:', valid_recall)\n",
    "print('Valid Specificity Score:', valid_specificity)\n",
    "print('Valid F1 Score:', valid_f1)"
   ]
  },
  {
   "cell_type": "code",
   "execution_count": 17,
   "id": "09e468b8-0395-49b0-8707-92645eeec685",
   "metadata": {},
   "outputs": [
    {
     "data": {
      "image/png": "[encoded data removed]",
      "text/plain": [
       "<Figure size 576x432 with 2 Axes>"
      ]
     },
     "metadata": {
      "needs_background": "light"
     },
     "output_type": "display_data"
    }
   ],
   "source": [
    "# Plot validating data using Seaborn\n",
    "plt.figure(figsize=(8, 6))\n",
    "sns.heatmap(valid_cm, annot=True, fmt='d', cmap='Reds', xticklabels=['Negative', 'Positive'], yticklabels=['Negative', 'Positive'])\n",
    "plt.xlabel('Predicted Labels')\n",
    "plt.ylabel('True Labels')\n",
    "plt.title('Naive Bayes Confusion Matrix')\n",
    "plt.show()"
   ]
  },
  {
   "cell_type": "code",
   "execution_count": 19,
   "id": "cfcdb37e-4460-419e-8f85-ecbc8f11cd15",
   "metadata": {},
   "outputs": [
    {
     "data": {
      "image/png": "[encoded data removed]",
      "text/plain": [
       "<Figure size 432x288 with 1 Axes>"
      ]
     },
     "metadata": {
      "needs_background": "light"
     },
     "output_type": "display_data"
    }
   ],
   "source": [
    "# Calculate the FPR, TPR, and thresholds\n",
    "fpr, tpr, thresholds = roc_curve(y_valid, y_pred_valid)\n",
    "\n",
    "# Calculate the AUC (Area Under the Curve)\n",
    "roc_auc = auc(fpr, tpr)\n",
    "\n",
    "# Plot the ROC curve\n",
    "plt.figure()\n",
    "plt.plot(fpr, tpr, color = 'red', label = f'ROC curve (AUC = {roc_auc:.2f})')\n",
    "plt.plot([0, 1], [0, 1], color = 'black')  # Diagonal line\n",
    "plt.xlim([0.0, 1.0])\n",
    "plt.ylim([0.0, 1.0])\n",
    "plt.xlabel('False Positive Rate')\n",
    "plt.ylabel('True Positive Rate')\n",
    "plt.title('Naive Bayes ROC Curve')\n",
    "plt.legend(loc = 'lower right')\n",
    "plt.grid()\n",
    "plt.show()"
   ]
  },
  {
   "cell_type": "code",
   "execution_count": null,
   "id": "c3267c54-6797-4ac0-993d-8670f94615d9",
   "metadata": {},
   "outputs": [],
   "source": []
  }
 ],
 "metadata": {
  "kernelspec": {
   "display_name": "Python 3 (ipykernel)",
   "language": "python",
   "name": "python3"
  },
  "language_info": {
   "codemirror_mode": {
    "name": "ipython",
    "version": 3
   },
   "file_extension": ".py",
   "mimetype": "text/x-python",
   "name": "python",
   "nbconvert_exporter": "python",
   "pygments_lexer": "ipython3",
   "version": "3.9.7"
  }
 },
 "nbformat": 4,
 "nbformat_minor": 5
}
