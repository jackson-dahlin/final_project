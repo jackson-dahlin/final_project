{
 "cells": [
  {
   "cell_type": "code",
   "execution_count": 1,
   "id": "600d0fe4-7e1e-4fea-ae12-0da42c031b06",
   "metadata": {},
   "outputs": [],
   "source": [
    "#All required libraries are imported here for you.\n",
    "import pandas as pd\n",
    "from sklearn.model_selection import train_test_split\n",
    "from sklearn import metrics\n",
    "import numpy as np\n",
    "import matplotlib.pyplot as plt\n",
    "import seaborn as sns\n",
    "from sklearn.model_selection import train_test_split\n",
    "from sklearn.compose import make_column_transformer\n",
    "from sklearn.neighbors import KNeighborsClassifier\n",
    "from sklearn.pipeline import make_pipeline\n",
    "from sklearn.metrics.pairwise import euclidean_distances\n",
    "from sklearn import set_config\n",
    "from sklearn.metrics import accuracy_score, precision_score, recall_score, confusion_matrix, ConfusionMatrixDisplay, roc_curve, auc"
   ]
  },
  {
   "cell_type": "code",
   "execution_count": 2,
   "id": "d8577942-dc6a-41f1-a0ca-9e65c5df71a5",
   "metadata": {},
   "outputs": [],
   "source": [
    "#Load the dataset\n",
    "blood = pd.read_csv('blood.csv')\n",
    "blood = blood.rename(columns={'Recency (months)': 'months since last donation',\n",
    "                              'Frequency (times)': 'total number of donations', \n",
    "                              'Monetary (c.c. blood)': 'total blood donated (in c.c.)',\n",
    "                             'Time (months)': 'months since first donation', \n",
    "                              'whether he/she donated blood in March 2007': 'Donated'})\n",
    "\n",
    "# Output dataframes instead of arrays\n",
    "set_config(transform_output=\"pandas\")"
   ]
  },
  {
   "cell_type": "code",
   "execution_count": 3,
   "id": "cdd0b05e-7830-462d-a32f-0c546b67b286",
   "metadata": {},
   "outputs": [],
   "source": [
    "# Create the log dataframe\n",
    "log_blood = blood.copy()\n",
    "\n",
    "# Fix values <= 0 by replacing them with NaN\n",
    "log_blood['months since last donation'] = log_blood['months since last donation'].apply(lambda x: np.nan if x <= 0 else x)\n",
    "log_blood['total number of donations'] = log_blood['total number of donations'].apply(lambda x: np.nan if x <= 0 else x)\n",
    "log_blood['total blood donated (in c.c.)'] = log_blood['total blood donated (in c.c.)'].apply(lambda x: np.nan if x <= 0 else x)\n",
    "log_blood['months since first donation'] = log_blood['months since first donation'].apply(lambda x: np.nan if x <= 0 else x)\n",
    "\n",
    "# Take the logarithm of the fixed values\n",
    "log_blood['months since last donation'] = np.log10(log_blood['months since last donation'])\n",
    "log_blood['total number of donations'] = np.log10(log_blood['total number of donations'])\n",
    "log_blood['total blood donated (in c.c.)'] = np.log10(log_blood['total blood donated (in c.c.)'])\n",
    "log_blood['months since first donation'] = np.log10(log_blood['months since first donation'])\n",
    "\n",
    "# Fix values NaN by replacing them with 0\n",
    "log_blood['months since last donation'] = log_blood['months since last donation'].fillna(0)\n",
    "log_blood['total number of donations'] = log_blood['total number of donations'].fillna(0)\n",
    "log_blood['total blood donated (in c.c.)'] = log_blood['total blood donated (in c.c.)'].fillna(0)\n",
    "log_blood['months since first donation'] = log_blood['months since first donation'].fillna(0)"
   ]
  },
  {
   "cell_type": "code",
   "execution_count": 4,
   "id": "f1a8b9e3-c795-4ed9-849f-94e46d549b84",
   "metadata": {},
   "outputs": [],
   "source": [
    "# Features\n",
    "X = log_blood[['months since last donation', 'total number of donations', \n",
    "           'total blood donated (in c.c.)', 'months since first donation']]\n",
    "features = log_blood['Donated']\n",
    "\n",
    "# Labels\n",
    "y = log_blood['Donated']"
   ]
  },
  {
   "cell_type": "code",
   "execution_count": 5,
   "id": "17642674-ef26-4807-a055-9a3b488b8769",
   "metadata": {},
   "outputs": [
    {
     "name": "stdout",
     "output_type": "stream",
     "text": [
      "Training: (523, 4)\n",
      "Validating: (150, 4)\n",
      "Testing: (75, 4)\n"
     ]
    }
   ],
   "source": [
    "np.random.seed(123)\n",
    "X_train, X_temp, y_train, y_temp = train_test_split(X, y, test_size = 0.3)\n",
    "X_valid, X_test, y_valid, y_test = train_test_split(X_temp, y_temp, test_size = 0.33)\n",
    "\n",
    "print('Training:', X_train.shape)\n",
    "print('Validating:', X_valid.shape)\n",
    "print('Testing:', X_test.shape)"
   ]
  },
  {
   "cell_type": "code",
   "execution_count": 6,
   "id": "432581f0-7324-4c6a-8c46-b918066f70a3",
   "metadata": {},
   "outputs": [],
   "source": [
    "knn_spec = KNeighborsClassifier(n_neighbors = 5)\n",
    "                               \n",
    "knn_fit = knn_spec.fit(X_train, y_train)\n",
    "y_pred_train = knn_fit.predict(X_train)\n",
    "y_pred_valid = knn_fit.predict(X_valid)\n",
    "y_pred_test = knn_fit.predict(X_test)"
   ]
  },
  {
   "cell_type": "code",
   "execution_count": 7,
   "id": "f970544f-c1b2-48aa-a256-440fa636d248",
   "metadata": {},
   "outputs": [
    {
     "data": {
      "text/plain": [
       "<AxesSubplot:ylabel='Count'>"
      ]
     },
     "execution_count": 7,
     "metadata": {},
     "output_type": "execute_result"
    },
    {
     "data": {
      "image/png": "[encoded data removed]",
      "text/plain": [
       "<Figure size 432x288 with 1 Axes>"
      ]
     },
     "metadata": {
      "needs_background": "light"
     },
     "output_type": "display_data"
    }
   ],
   "source": [
    "sns.histplot(knn_fit.predict_proba(X_test)[:,0])"
   ]
  },
  {
   "cell_type": "code",
   "execution_count": 8,
   "id": "6e3e40ec-e3b5-49f8-8a71-5809e572e9df",
   "metadata": {},
   "outputs": [],
   "source": [
    "# Creating a confusion matrix for the training data\n",
    "train_tn, train_fp, train_fn, train_tp = confusion_matrix(y_train, y_pred_train).ravel()\n",
    "train_cm = confusion_matrix(y_train, y_pred_train)\n",
    "\n",
    "# Creating a confusion matrix for the validating data\n",
    "valid_tn, valid_fp, valid_fn, valid_tp = confusion_matrix(y_valid, y_pred_valid).ravel()\n",
    "valid_cm = confusion_matrix(y_valid, y_pred_valid)\n",
    "\n",
    "# Creating a confusion matrix for the test data\n",
    "test_tn, test_fp, test_fn, test_tp = confusion_matrix(y_test, y_pred_test).ravel()\n",
    "test_cm = confusion_matrix(y_test, y_pred_test)"
   ]
  },
  {
   "cell_type": "code",
   "execution_count": 9,
   "id": "883fd960-bae9-4418-a8d5-877a031d43c9",
   "metadata": {},
   "outputs": [],
   "source": [
    "# Evaluate the model on training data\n",
    "train_accuracy = metrics.accuracy_score(y_train, y_pred_train)\n",
    "train_precision = precision_score(y_train, y_pred_train)\n",
    "train_recall = metrics.recall_score(y_train, y_pred_train)\n",
    "train_specificity = train_tn / (train_tn + train_fp)\n",
    "train_f1 = metrics.f1_score(y_train, y_pred_train)\n",
    "\n",
    "# Evaluate the model on valdiating data\n",
    "valid_accuracy = metrics.accuracy_score(y_valid, y_pred_valid)\n",
    "valid_precision = precision_score(y_valid, y_pred_valid)\n",
    "valid_recall = metrics.recall_score(y_valid, y_pred_valid)\n",
    "valid_specificity = valid_tn / (valid_tn + valid_fp)\n",
    "valid_f1 = metrics.f1_score(y_valid, y_pred_valid)\n",
    "\n",
    "# Evaluate the model on testing data\n",
    "test_accuracy = metrics.accuracy_score(y_test, y_pred_test)\n",
    "test_precision = precision_score(y_test, y_pred_test)\n",
    "test_recall = metrics.recall_score(y_test, y_pred_test)\n",
    "test_specificity = test_tn / (test_tn + test_fp)\n",
    "test_f1 = metrics.f1_score(y_test, y_pred_test)"
   ]
  },
  {
   "cell_type": "code",
   "execution_count": 10,
   "id": "e03115a4-8181-48d5-8ce7-be1832a03959",
   "metadata": {},
   "outputs": [
    {
     "name": "stdout",
     "output_type": "stream",
     "text": [
      "---Training Performance---\n",
      "Training Accuracy: 0.8317399617590823\n",
      "Training Precision Score: 0.6530612244897959\n",
      "Training Recall Score: 0.5423728813559322\n",
      "Training Specificity Score: 0.9160493827160494\n",
      "Training F1 Score: 0.5925925925925926\n",
      "---Valdiating Performance---\n",
      "Valid Accuracy: 0.7666666666666667\n",
      "Valid Precision Score: 0.56\n",
      "Valid Recall Score: 0.3684210526315789\n",
      "Valid Specificity Score: 0.9017857142857143\n",
      "Valid F1 Score: 0.4444444444444444\n"
     ]
    }
   ],
   "source": [
    "# Printing training evaluation metrics\n",
    "print('---Training Performance---')\n",
    "print('Training Accuracy:', train_accuracy)\n",
    "print('Training Precision Score:', train_precision)\n",
    "print('Training Recall Score:', train_recall)\n",
    "print('Training Specificity Score:', train_specificity)\n",
    "print('Training F1 Score:', train_f1)\n",
    "\n",
    "# Printing validation evaluation metrics\n",
    "print('---Valdiating Performance---')\n",
    "print('Valid Accuracy:', valid_accuracy)\n",
    "print('Valid Precision Score:', valid_precision)\n",
    "print('Valid Recall Score:', valid_recall)\n",
    "print('Valid Specificity Score:', valid_specificity)\n",
    "print('Valid F1 Score:', valid_f1)"
   ]
  },
  {
   "cell_type": "code",
   "execution_count": 11,
   "id": "0e6b0dd7-dfab-4dda-a805-45e11b4e12ab",
   "metadata": {},
   "outputs": [
    {
     "data": {
      "image/png": "[encoded data removed]",
      "text/plain": [
       "<Figure size 576x432 with 2 Axes>"
      ]
     },
     "metadata": {
      "needs_background": "light"
     },
     "output_type": "display_data"
    }
   ],
   "source": [
    "# Plot validating data using Seaborn\n",
    "plt.figure(figsize=(8, 6))\n",
    "sns.heatmap(valid_cm, annot=True, fmt='d', cmap='Blues', xticklabels=['Negative', 'Positive'], yticklabels=['Negative', 'Positive'])\n",
    "plt.xlabel('Predicted Labels')\n",
    "plt.ylabel('True Labels')\n",
    "plt.title('Log k-NN Confusion Matrix')\n",
    "plt.show()"
   ]
  },
  {
   "cell_type": "code",
   "execution_count": 12,
   "id": "84174ec5-6fec-4863-a04e-33a7e5975ba1",
   "metadata": {},
   "outputs": [
    {
     "data": {
      "image/png": "[encoded data removed]",
      "text/plain": [
       "<Figure size 432x288 with 1 Axes>"
      ]
     },
     "metadata": {
      "needs_background": "light"
     },
     "output_type": "display_data"
    }
   ],
   "source": [
    "# Calculate the FPR, TPR, and thresholds\n",
    "fpr, tpr, thresholds = roc_curve(y_valid, y_pred_valid)\n",
    "\n",
    "# Calculate the AUC (Area Under the Curve)\n",
    "roc_auc = auc(fpr, tpr)\n",
    "\n",
    "# Plot the ROC curve\n",
    "plt.figure()\n",
    "plt.plot(fpr, tpr, color = 'navy', label = f'ROC curve (AUC = {roc_auc:.2f})')\n",
    "plt.plot([0, 1], [0, 1], color = 'black')  # Diagonal line\n",
    "plt.xlim([0.0, 1.0])\n",
    "plt.ylim([0.0, 1.0])\n",
    "plt.xlabel('False Positive Rate')\n",
    "plt.ylabel('True Positive Rate')\n",
    "plt.title('Log k-NN ROC Curve')\n",
    "plt.legend(loc = 'lower right')\n",
    "plt.grid()\n",
    "plt.show()"
   ]
  }
 ],
 "metadata": {
  "kernelspec": {
   "display_name": "Python 3 (ipykernel)",
   "language": "python",
   "name": "python3"
  },
  "language_info": {
   "codemirror_mode": {
    "name": "ipython",
    "version": 3
   },
   "file_extension": ".py",
   "mimetype": "text/x-python",
   "name": "python",
   "nbconvert_exporter": "python",
   "pygments_lexer": "ipython3",
   "version": "3.9.7"
  }
 },
 "nbformat": 4,
 "nbformat_minor": 5
}
